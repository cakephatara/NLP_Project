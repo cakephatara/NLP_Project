{
 "cells": [
  {
   "cell_type": "code",
   "execution_count": 1,
   "metadata": {},
   "outputs": [],
   "source": [
    "import tweepy\n",
    "import pandas as pd\n",
    "import csv\n",
    "import time"
   ]
  },
  {
   "cell_type": "code",
   "execution_count": 2,
   "metadata": {},
   "outputs": [],
   "source": [
    "consumer_key = 'jwhWOhv7hKtEJoXe1xamcQbnO'\n",
    "consumer_secret = 'B3TL0Ryc8YzWqFT6AO4LOQPan9l6rxG0olimpyUbnSSUbF1mEy'\n",
    "access_token = '1094224950737567745-GiY7Yt0DX5BVZIw0ffwnBYUZSbHPnj'\n",
    "access_token_secret = '8ZZY3NJ3T4cJSOInxav6gh51qQ8LgcsZEH60lDi175wci'"
   ]
  },
  {
   "cell_type": "code",
   "execution_count": 3,
   "metadata": {},
   "outputs": [],
   "source": [
    "auth = tweepy.OAuthHandler(consumer_key, consumer_secret)\n",
    "auth.set_access_token(access_token, access_token_secret)\n",
    "api = tweepy.API(auth,wait_on_rate_limit=True)"
   ]
  },
  {
   "cell_type": "code",
   "execution_count": null,
   "metadata": {},
   "outputs": [],
   "source": [
    "def session_error(cursor):\n",
    "    while True:\n",
    "        try:\n",
    "            yield cursor.next()\n",
    "        except tweepy.TweepError:\n",
    "            time.sleep(16*60)\n",
    "            continue\n",
    "        except StopIteration:\n",
    "            return\n",
    "\n",
    "i = 1\n",
    "query = 'รัฐบาล'\n",
    "dic = {'date':[], 'text':[]}\n",
    "tweets = tweepy.Cursor(api.search, q= query, since = '2020-03-01',\n",
    "                      tweet_mode = 'extended', lang= 'th', count= 5000).items()\n",
    "\n",
    "with open('gov3.csv', 'w', encoding = 'utf-8',newline = '') as file:\n",
    "    writer = csv.writer(file)\n",
    "    for tweet in session_error(tweets):\n",
    "        if tweet.full_text[:2]!='RT':\n",
    "            print(i, tweet.created_at)\n",
    "            writer.writerow([tweet.created_at, tweet.full_text.split('_')[0].split('http')[0]])\n",
    "            i += 1"
   ]
  },
  {
   "cell_type": "code",
   "execution_count": null,
   "metadata": {},
   "outputs": [],
   "source": []
  }
 ],
 "metadata": {
  "kernelspec": {
   "display_name": "Python 3",
   "language": "python",
   "name": "python3"
  },
  "language_info": {
   "codemirror_mode": {
    "name": "ipython",
    "version": 3
   },
   "file_extension": ".py",
   "mimetype": "text/x-python",
   "name": "python",
   "nbconvert_exporter": "python",
   "pygments_lexer": "ipython3",
   "version": "3.7.6"
  }
 },
 "nbformat": 4,
 "nbformat_minor": 2
}
