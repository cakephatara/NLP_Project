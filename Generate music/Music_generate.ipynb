{
 "cells": [
  {
   "cell_type": "code",
   "execution_count": 1,
   "metadata": {},
   "outputs": [],
   "source": [
    "import nltk\n",
    "import py_midicsv\n",
    "import pandas as pd\n",
    "from random import randint"
   ]
  },
  {
   "cell_type": "markdown",
   "metadata": {},
   "source": [
    "## Create data from midi files"
   ]
  },
  {
   "cell_type": "code",
   "execution_count": 2,
   "metadata": {},
   "outputs": [],
   "source": [
    "def music(midi_song):\n",
    "    data = py_midicsv.midi_to_csv(midi_song)\n",
    "    df = pd.DataFrame(data)\n",
    "    df = df[0].str.split(',', expand=True)\n",
    "    df = df[df[2]==' Note_on_c']\n",
    "    note = df[4]\n",
    "    list_trim = []\n",
    "    for i in note:\n",
    "        i = str(i).replace(' ','')\n",
    "        list_trim.append(i)\n",
    "    list_trim.insert(0, '<s>')\n",
    "    list_trim.append('</s>')\n",
    "    return list_trim"
   ]
  },
  {
   "cell_type": "code",
   "execution_count": 3,
   "metadata": {},
   "outputs": [
    {
     "name": "stdout",
     "output_type": "stream",
     "text": [
      "Unique note\n",
      "Maroon5 song set:  \n",
      "Number of note 73 {'79', '58', '31', '42', '84', '44', '74', '48', '36', '63', '70', '54', '</s>', '78', '43', '108', '71', '52', '47', '89', '87', '33', '<s>', '86', '61', '105', '93', '69', '103', '98', '56', '37', '100', '91', '75', '66', '64', '34', '59', '39', '85', '51', '107', '82', '80', '101', '95', '67', '83', '30', '65', '35', '38', '53', '49', '57', '45', '77', '73', '72', '88', '46', '50', '55', '40', '96', '29', '68', '62', '41', '76', '81', '60'}\n"
     ]
    }
   ],
   "source": [
    "animals = music('music/Animals_cut.mid')\n",
    "list_1 = list(animals)\n",
    "harder_to_breathe = music('music/HarderToBreathe_cut.mid')\n",
    "list_2 = list(harder_to_breathe)\n",
    "maps = music('music/maps_cut.mid')\n",
    "list_3 = list(maps)\n",
    "misery = music('music/Misery_cut.mid')\n",
    "list_4 = list(misery)\n",
    "never = music('music/NeverGonnaLeaveThisBed_cut.mid')\n",
    "list_5 = list(never)\n",
    "onemorenight = music('music/OneMoreNight_cut.mid')\n",
    "list_6 = list(onemorenight)\n",
    "payphone = music('music/Payphone_cut.mid')\n",
    "list_7 = list(payphone)\n",
    "shewillbelove = music('music/SheWillBeLoved_cut.mid')\n",
    "list_8 = list(shewillbelove)\n",
    "sundaymorning = music('music/SundayMorning_cut.mid')\n",
    "list_9 = list(sundaymorning)\n",
    "thislove = music('music/ThisLove_cut.mid')\n",
    "list_10 = list(thislove)\n",
    "wontgohome = music('music/WontGoHomeWithoutYou_cut.mid')\n",
    "list_11 = list(wontgohome)\n",
    "\n",
    "maroon5 = list_1+list_2+list_3+list_4+list_5+list_6+list_7+list_8+list_9+list_10+list_11\n",
    "\n",
    "# print(maroon5)\n",
    "maroonn5 = set(maroon5)\n",
    "\n",
    "print('Unique note')\n",
    "print('Maroon5 song set: ', '\\nNumber of note',len(maroonn5), set(maroonn5))"
   ]
  },
  {
   "cell_type": "code",
   "execution_count": 4,
   "metadata": {
    "scrolled": true
   },
   "outputs": [
    {
     "name": "stdout",
     "output_type": "stream",
     "text": [
      "['<s>', '77', '77', '84', '84', '84', '80', '80', '80', '80', '79', '79', '77', '77', '77', '77', '84', '84', '84', '84', '84', '84', '80', '80', '80', '80', '79', '79', '77', '77', '77', '84', '77', '77', '77', '77', '77', '77', '77', '77', '77', '77', '77', '77', '77', '77', '77', '77', '77', '75', '77', '75', '77', '77', '77', '77', '77', '77', '84', '84', '77', '77', '77', '77', '77', '77', '77', '72', '72', '77', '77', '72', '72', '77', '77', '77', '77', '72', '72', '77', '77', '72', '72', '77', '77', '72', '72', '75', '77', '75', '75', '75', '75', '75', '77', '77', '84', '84', '77', '77', '77', '77', '77', '72', '72', '77', '72', '77', '72', '77', '77', '77', '77', '72', '72', '77', '72', '77', '72', '77', '77', '72', '72', '77', '72', '77', '75', '77', '72', '75', '75', '75', '72', '77', '77', '72', '77', '77', '84', '84', '77', '77', '77', '77', '77', '77', '77', '72', '72', '77', '77', '72', '72', '77', '77', '72', '72', '77', '77', '72', '72', '77', '77', '72', '72', '77', '77', '72', '75', '72', '77', '75', '75', '75', '75', '75', '73', '73', '72', '72', '77', '77', '77', '77', '77', '72', '72', '72', '72', '72', '72', '72', '72', '72', '72', '72', '72', '75', '75', '75', '75', '75', '75', '82', '82', '80', '80', '72', '72', '77', '77', '77', '77', '77', '77', '72', '72', '72', '72', '72', '72', '72', '72', '72', '72', '75', '75', '75', '75', '75', '75', '82', '82', '80', '80', '72', '72', '77', '77', '77', '77', '77', '77', '72', '72', '72', '72', '72', '72', '72', '72', '72', '72', '75', '75', '75', '75', '75', '75', '82', '82', '80', '80', '72', '72', '77', '77', '77', '77', '77', '72', '77', '72', '72', '72', '72', '72', '72', '72', '72', '75', '72', '75', '75', '75', '75', '75', '82', '82', '80', '80', '72', '72', '77', '77', '77', '77', '72', '72', '72', '72', '75', '75', '75', '75', '70', '70', '72', '72', '72', '72', '77', '77', '77', '77', '72', '72', '72', '72', '75', '75', '75', '75', '70', '70', '68', '68', '65', '65', '72', '72', '72', '72', '77', '77', '77', '77', '72', '72', '72', '72', '75', '75', '75', '75', '70', '70', '72', '72', '72', '72', '77', '77', '77', '77', '72', '72', '72', '72', '75', '75', '75', '75', '70', '68', '70', '65', '68', '77', '84', '77', '65', '77', '77', '77', '77', '77', '77', '77', '77', '77', '77', '77', '77', '77', '77', '77', '75', '75', '75', '75', '77', '77', '77', '77', '84', '84', '77', '77', '77', '77', '77', '77', '72', '77', '72', '77', '77', '72', '72', '77', '77', '72', '72', '77', '77', '72', '72', '77', '77', '77', '77', '75', '77', '75', '75', '75', '75', '75', '77', '77', '84', '84', '77', '77', '77', '77', '77', '77', '77', '72', '72', '77', '77', '72', '72', '77', '77', '72', '72', '77', '72', '77', '72', '77', '77', '72', '72', '77', '77', '72', '75', '77', '72', '75', '75', '75', '77', '77', '77', '77', '84', '84', '77', '77', '77', '77', '77', '72', '72', '77', '77', '72', '72', '77', '77', '72', '72', '77', '77', '72', '72', '77', '77', '72', '72', '77', '77', '72', '72', '77', '77', '72', '75', '72', '77', '75', '75', '75', '75', '75', '73', '73', '72', '72', '77', '77', '77', '77', '77', '77', '72', '72', '72', '72', '72', '72', '72', '72', '72', '75', '72', '75', '75', '75', '75', '75', '82', '82', '80', '80', '72', '72', '72', '72', '77', '77', '77', '77', '77', '72', '77', '72', '72', '72', '72', '72', '72', '72', '72', '72', '75', '75', '75', '75', '75', '75', '82', '82', '80', '80', '72', '72', '72', '72', '77', '77', '77', '77', '77', '77', '72', '72', '72', '72', '72', '72', '72', '72', '72', '72', '75', '75', '75', '75', '75', '75', '82', '82', '80', '80', '72', '72', '72', '72', '77', '77', '77', '77', '77', '77', '77', '77', '72', '72', '72', '72', '72', '72', '72', '72', '72', '72', '75', '75', '75', '75', '75', '75', '82', '82', '80', '80', '72', '72', '77', '77', '77', '77', '72', '72', '72', '72', '75', '75', '75', '75', '70', '70', '72', '72', '72', '72', '77', '77', '77', '77', '72', '72', '72', '72', '75', '75', '75', '75', '70', '70', '68', '68', '65', '65', '72', '72', '72', '77', '72', '77', '77', '77', '72', '72', '72', '72', '75', '75', '75', '75', '70', '70', '72', '72', '72', '77', '72', '77', '77', '77', '72', '72', '72', '72', '75', '75', '75', '75', '70', '68', '70', '65', '68', '65', '</s>']\n"
     ]
    }
   ],
   "source": [
    "print(list_6)"
   ]
  },
  {
   "cell_type": "markdown",
   "metadata": {},
   "source": [
    "# Bigram"
   ]
  },
  {
   "cell_type": "code",
   "execution_count": 5,
   "metadata": {},
   "outputs": [],
   "source": [
    "def get_word(wf):\n",
    "    count = 0\n",
    "    for key in wf:\n",
    "        count += wf[key]\n",
    "    rand = randint(1, count)\n",
    "    for key in wf:\n",
    "        if (rand <= wf[key]):\n",
    "            return key\n",
    "        else:\n",
    "            rand -= wf[key]"
   ]
  },
  {
   "cell_type": "code",
   "execution_count": 6,
   "metadata": {
    "scrolled": true
   },
   "outputs": [
    {
     "name": "stdout",
     "output_type": "stream",
     "text": [
      "<s> 76 86 83 78 79 74 67 71 81 84 69 64 72 66 62 60 52 50 48 43 40 38 36 42 54 39 49 </s> 61 68 63 80 73 75 85 87 77 82 70 65 59 58 56 55 33 31 35 45 34 41 30 29 37 47 53 57 51 46 108 107 105 103 101 100 98 96 95 93 91 89 88 44 \n"
     ]
    }
   ],
   "source": [
    "wordfreq = {}\n",
    "sentence = \"\"\n",
    "for i in range(0, len(maroon5)):\n",
    "    word = maroon5[i]\n",
    "    if word not in wordfreq:\n",
    "        wordfreq[word] = 1\n",
    "    else:\n",
    "        wordfreq[word] += 1\n",
    "#wordfreq\n",
    "    for i in range(0,200):\n",
    "        if str(word) not in sentence:\n",
    "            sentence += str(word) + \" \"\n",
    "            word = get_word(wordfreq)\n",
    "        else:\n",
    "            continue\n",
    "print(sentence)"
   ]
  },
  {
   "cell_type": "markdown",
   "metadata": {},
   "source": [
    "# bigram, 3-gram, 4-gram, 5-gram Model"
   ]
  },
  {
   "cell_type": "code",
   "execution_count": 7,
   "metadata": {},
   "outputs": [],
   "source": [
    "import nltk\n",
    "import random\n",
    "\n",
    "# create a dict with the ngram model, it receives a list with the samples as string, an the n pramater\n",
    "# of the n-gram\n",
    "ngram_dict = {}\n",
    "\n",
    "def create_ngram_dict(corpus, n = 3):\n",
    "    ngrams = nltk.ngrams(corpus, n)\n",
    "    \n",
    "    for grams in ngrams:\n",
    "        dict_key = grams[:-1][0] \n",
    "        for i in range(1, n-1):\n",
    "             dict_key += \" \" + grams[:-1][i]\n",
    "        if dict_key in ngram_dict:\n",
    "            ngram_dict[dict_key].append(grams[-1])\n",
    "        else:\n",
    "            ngram_dict[dict_key] = []\n",
    "            ngram_dict[dict_key].append(grams[-1])\n",
    "            \n",
    "def generate_ngram(seed, samples = 15):\n",
    "    output = seed  \n",
    "    for i in range(samples):\n",
    "        # When it reaches the last prefix, there is no suffix, so end\n",
    "        try:\n",
    "            new_sample = random.choice(ngram_dict[seed])\n",
    "        except:\n",
    "            return output\n",
    "        output += \" \" + new_sample\n",
    "        temp_seed = seed.split(\" \")[1]\n",
    "        #import pdb\n",
    "        #pdb.set_trace()\n",
    "        for sample in seed.split(\" \")[2:]:\n",
    "            temp_seed += \" \" + sample \n",
    "        seed = temp_seed + \" \" + new_sample\n",
    "\n",
    "    return output            "
   ]
  },
  {
   "cell_type": "code",
   "execution_count": 8,
   "metadata": {
    "scrolled": true
   },
   "outputs": [
    {
     "name": "stdout",
     "output_type": "stream",
     "text": [
      "77 77 84 84 77 77 77 77 72 72 77 77 77 77 72 72 77 77 72 72 77 77 72 77 77 84 84 77 77 77 77 77 77 72 72 72 72 72 72 72 72 75 72 75 75 72 70 72 75 70 70 70 72 70 77 79 77 72 77 72 72 72 72 75 75 75 75 70 68 70 65 68 65 </s> <s> 63 63 64 66 64 66 73 73 71 71 71 71 70 70 66 66 64 64 63 63 61 61 63 63 64 66 64 66 73 73 71 71 71 71 70 70 66 66 64 64 64 64 64 64 64 61 61 61 61 59 59 59 59 61 61 63 63 61 61 61 61 61 61 61 64 64 61 68 61 68 61 61 64 64 64 61 61 61 64 64 61 68 61 68 61 61 64 64 64 64 61 61 61 61 64 64 61 61 61 61 64 64 61 68 61 68 61 61 64 64 61 61 61 61 64 64 61 61 61 61 64 64 61 61 61 61 64 64 64\n"
     ]
    }
   ],
   "source": [
    "ngram_dict = {}\n",
    "create_ngram_dict(maroon5, 5)\n",
    "generated_melody_5gram = generate_ngram(\"77 77 84 84\", 200)\n",
    "\n",
    "print(generated_melody_5gram)"
   ]
  },
  {
   "cell_type": "code",
   "execution_count": 9,
   "metadata": {},
   "outputs": [
    {
     "name": "stdout",
     "output_type": "stream",
     "text": [
      "77 77 84 84 77 77 77 77 77 84 84 84 84 84 80 80 80 80 83 76 78 81 75 78 81 75 76 80 73 76 80 73 80 71 78 73 78 73 78 73 78 73 78 73 78 73 78 73 78 73 78 73 78 73 78 73 78 73 78 73 78 73 78 73 76 73 80 73 80 80 80 78 76 78 80 80 80 83 76 78 79 78 76 79 78 76 79 78 76 79 78 76 67 67 74 71 71 69 71 71 64 67 71 71 71 64 67 71 71 71 70 70 66 66 64 64 63 63 64 64 63 63 59 59 64 64 63 61 63 63 61 61 61 64 61 64 64 61 61 66 66 64 64 63 63 61 61 63 63 59 59 64 64 63 63 64 66 64 66 73 73 71 71 71 71 71 64 71 71 71 64 67 69 52 55 57 60 67 43 50 55 59 64 67 35 36 38 40 42 42 40 42 42 36 42 42 36 38 39 42 42 36 42\n"
     ]
    }
   ],
   "source": [
    "ngram_dict = {}\n",
    "create_ngram_dict(maroon5, 4)\n",
    "generated_melody_4gram = generate_ngram(\"77 77 84\", 200)\n",
    "\n",
    "print(generated_melody_4gram)"
   ]
  },
  {
   "cell_type": "code",
   "execution_count": 10,
   "metadata": {
    "scrolled": false
   },
   "outputs": [
    {
     "name": "stdout",
     "output_type": "stream",
     "text": [
      "77 77 72 77 72 72 75 77 79 77 72 72 72 75 75 75 77 75 77 75 72 75 70 70 66 66 63 63 63 63 61 61 61 61 61 61 63 61 61 61 61 61 61 61 59 63 59 63 59 59 59 59 66 66 66 61 61 64 61 61 61 61 61 64 64 61 61 61 66 80 54 75 68 78 63 66 65 63 60 67 64 67 64 60 64 60 64 67 64 67 38 50 57 60 65 69 72 76 74 83 81 76 79 72 72 77 71 74 76 76 79 76 74 71 71 71 64 67 50 57 60 67 64 67 50 57 60 64 60 64 60 64 43 50 55 59 62 53 57 60 52 55 57 60 64 60 64 60 64 57 60 64 67 64 67 64 60 64 60 64 60 64 67 59 71 58 70 57 69 74 52 60 64 60 64 60 64 65 67 71 71 70 70 70 66 66 64 66 64 64 61 68 68 66 66 66 63 63 61 61 63 63\n"
     ]
    }
   ],
   "source": [
    "ngram_dict = {}\n",
    "create_ngram_dict(maroon5, 3)\n",
    "generated_melody_3gram = generate_ngram(\"77 77\", 200)\n",
    "\n",
    "print(generated_melody_3gram)"
   ]
  },
  {
   "cell_type": "code",
   "execution_count": 12,
   "metadata": {},
   "outputs": [],
   "source": [
    "from midiutil.MidiFile import MIDIFile   \n",
    "\n",
    "# takes a list of integers representing midi notes and creates a .mid\n",
    "# with a contant time of a quarter note for all the notes and 120 \n",
    "# as tempo(taken from garcia, 2018)\n",
    "def sequenceVector2midiMelody(seqVector, file_dir):\n",
    "    MyMIDI = MIDIFile(1)\n",
    "    track = 0 \n",
    "    time = 0\n",
    "    MyMIDI.addTrackName(track,time,\"Sample Track\") \n",
    "    MyMIDI.addTempo(track,time,120)\n",
    "    time = 0\n",
    "    for note in seqVector:\n",
    "        # MyMIDI.addNote(track,channel,pitch,time,duration,volume)\n",
    "        MyMIDI.addNote(0,0,note,time,1,100)\n",
    "        time = time + 1\n",
    "\n",
    "    binfile = open(file_dir, 'wb') \n",
    "    MyMIDI.writeFile(binfile) \n",
    "    binfile.close()"
   ]
  },
  {
   "cell_type": "code",
   "execution_count": 24,
   "metadata": {},
   "outputs": [],
   "source": [
    "sequenceVector2midiMelody(map(int,generated_melody_3gram.split(\" \")), 'generated_maroon5_3gram.mid')\n",
    "sequenceVector2midiMelody(map(int,generated_melody_4gram.split(\" \")), 'generated_maroon5_4gram.mid')\n",
    "sequenceVector2midiMelody(map(int,generated_melody_5gram.split(\" \")), 'generated_maroon5_5gram.mid')"
   ]
  },
  {
   "cell_type": "code",
   "execution_count": null,
   "metadata": {},
   "outputs": [],
   "source": []
  }
 ],
 "metadata": {
  "kernelspec": {
   "display_name": "Python 3",
   "language": "python",
   "name": "python3"
  },
  "language_info": {
   "codemirror_mode": {
    "name": "ipython",
    "version": 3
   },
   "file_extension": ".py",
   "mimetype": "text/x-python",
   "name": "python",
   "nbconvert_exporter": "python",
   "pygments_lexer": "ipython3",
   "version": "3.7.6"
  }
 },
 "nbformat": 4,
 "nbformat_minor": 2
}
